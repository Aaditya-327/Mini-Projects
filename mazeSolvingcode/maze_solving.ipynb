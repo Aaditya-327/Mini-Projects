{
 "cells": [
  {
   "cell_type": "code",
   "execution_count": 1,
   "metadata": {},
   "outputs": [],
   "source": [
    "import cv2\n",
    "import numpy as np\n",
    "import matplotlib.pyplot as plt"
   ]
  },
  {
   "cell_type": "code",
   "execution_count": 2,
   "metadata": {},
   "outputs": [],
   "source": [
    "class Image:    \n",
    "    # Image object, manupulation and overlay\n",
    "    def __init__(self, filename):\n",
    "        matrix = cv2.imread(filename , cv2.IMREAD_GRAYSCALE)\n",
    "        self.matrix = matrix > 0\n",
    "        # Load image to B TF array\n",
    "        self.cols, self.rows = self.matrix.shape\n",
    "        self.around = np.asarray([[int(i) for i in j] for j in np.zeros((self.rows, self.cols))])\n",
    "        # Emrpty array to calculate sides around\n",
    "        self.overlay = np.zeros((self.rows, self.cols)) > 0\n",
    "        # Empty array for overlay TF array\n",
    "   \n",
    "    def getAroundsum(self, point):\n",
    "        # Calculate sum of sides in + direction\n",
    "        x, y = point\n",
    "        '''\n",
    "        around = [ (x-1, y-1), (x-1, y), (x-1, y+1),\n",
    "                   (x, y-1),   (x, y),   (x, y+1),\n",
    "                   (x+1, y-1), (x+1, y), (x+1, y+1) ]\n",
    "        '''\n",
    "        around_x = [(x, y-1),             (x, y+1),]\n",
    "        around_y = [(x-1, y),             (x+1, y),]\n",
    "        axis = lambda axes : sum([int(self.matrix[i]) for i in axes])\n",
    "        # Calculating sum in | direction annd _ direction\n",
    "        # return sum |, sum _, center +\n",
    "        return axis(around_x), axis(around_y), self.matrix[x][y]\n",
    "\n",
    "    def genOverlay(self):\n",
    "        # Gnerate overlay as boolean matrix of same shape\n",
    "        for i in range(1, self.rows-1):\n",
    "            for j in range(1, self.cols-1):\n",
    "                # if surrounded by 2 true block then false\n",
    "                if sum(self.getAroundsum((i, j))) != 3:\n",
    "                    self.overlay[i][j] = True   \n",
    "                # if in L shape, then True\n",
    "                elif self.getAroundsum((i, j)) == (1, 1, 1):\n",
    "                    self.overlay[i][j] = True \n",
    "                # if centre is false then no overlay there\n",
    "                if self.getAroundsum((i, j))[2] != 1:\n",
    "                    self.overlay[i][j] = False\n",
    "                    \n",
    "        for i in range(self.cols):\n",
    "            # if outer edge then false except entry and exit\n",
    "            if self.matrix[0][i] == True: self.overlay[0][i] = True\n",
    "            if self.matrix[-1][i] == True: self.overlay[-1][i] = True\n",
    "    \n",
    "    def overlayPoints(self):\n",
    "        # so where are the overlay points? generate cartesian list\n",
    "        self.listOrdinates = []\n",
    "        for i in range(self.rows):\n",
    "            for j in range(self.cols):\n",
    "                if self.overlay[i][j] == 1: \n",
    "                    self.listOrdinates.append((i, j))\n",
    "        return self.listOrdinates\n",
    "    \n",
    "    def displayOverlay(self):\n",
    "        # display overlay over the image\n",
    "        mat1, mat2 = self.matrix.astype(int) ,self.overlay.astype(int)\n",
    "        # mat1: original matrix, mat2: overlay matrix\n",
    "        overlayresult = mat2\n",
    "        # result void matrix\n",
    "        for i in range(self.rows):\n",
    "            for j in range(self.cols):\n",
    "                if mat1[i][j] == 1 and mat2[i][j] == 0:\n",
    "                    # Yellow for non-overlay\n",
    "                    overlayresult[i][j] = 256\n",
    "                elif mat1[i][j] == 1 and mat2[i][j] == 1:\n",
    "                    # Blue for overlay\n",
    "                    overlayresult[i][j] = 128\n",
    "                else:\n",
    "                    # Purple for rest\n",
    "                    overlayresult[i][j] = 0\n",
    "        # display the overlay result\n",
    "        plt.imshow(overlayresult)"
   ]
  },
  {
   "cell_type": "code",
   "execution_count": 3,
   "metadata": {},
   "outputs": [],
   "source": [
    "class Node:\n",
    "    # Node analysis and check intermediate\n",
    "    def __init__(self, ordinate, link, image):\n",
    "        # initialize node\n",
    "        self.locn = ordinate\n",
    "        self.input_node = []\n",
    "        self.mAtrix = image.matrix\n",
    "        # attributes locn, input_node, mAtrix\n",
    "        self.location(link)\n",
    "        # find direction of position\n",
    "        \n",
    "    def add_nodes(self, link):\n",
    "        # add anther node\n",
    "        self.location(link)\n",
    "    \n",
    "    def location(self, link):\n",
    "        x2, y2, x1, y1 = self.locn[0], self.locn[1], link[0], link[1]\n",
    "        if x1 - x2 == 0:\n",
    "            if y1 - y2 > 0: orientation = 'R'\n",
    "            elif y1 - y2 < 0: orientation = 'L'          \n",
    "        elif y1 - y2 == 0:\n",
    "            if x1 - x2 > 0: orientation = 'D'\n",
    "            elif x1 - x2 < 0: orientation = 'U'            \n",
    "            else: pass\n",
    "        else: return None\n",
    "        # added_point, distance2point, direction\n",
    "        distance = int(((x1 - x2)**2 + (y1 - y2)**2)**0.5)\n",
    "        self.input_node.append( ((x1, y1), distance, orientation) )\n",
    "    \n",
    "    def filterOrientation(self):\n",
    "        # filter to get minimum of all the sides\n",
    "        inf = ((0, 0), float(\"inf\"))\n",
    "        minDict = {'R' :inf, 'L' :inf, 'D' :inf, 'U' :inf}\n",
    "        \n",
    "        for i, j, k in self.input_node:\n",
    "            if minDict[k][1] > j:\n",
    "                minDict[k] = (i, j)\n",
    "        # append only minimum to the input_node\n",
    "        self.input_node = [(value[0], value[1], key)for key, value in minDict.items() if value[1] != inf[1]]\n",
    "            \n",
    "    def checkOverlayObstruction(self):\n",
    "        x1, y1 = self.locn\n",
    "        \n",
    "        for extreme in self.input_node:\n",
    "            # for all direction of least in + direction\n",
    "               \n",
    "            if extreme[2] == 'L':\n",
    "                # if it lies in same line along Y-axis\n",
    "                for i in range(y1, extreme[0][1], 1):\n",
    "                    if self.mAtrix[x1][i] == False:\n",
    "                        self.input_node.remove(extreme)\n",
    "                        break\n",
    "            \n",
    "            if extreme[2] == 'R':\n",
    "                # if it lies in same line along Y-axis\n",
    "                for i in range(y1, extreme[0][1], -1):\n",
    "                    if self.mAtrix[x1][i] == False:\n",
    "                        self.input_node.remove(extreme)\n",
    "                        break\n",
    "                        \n",
    "            if extreme[2] == 'U':\n",
    "                # if it lies in same line along X-axis\n",
    "                for i in range(x1, extreme[0][0], 1):\n",
    "                    if self.mAtrix[i][y1] == False:\n",
    "                        self.input_node.remove(extreme)\n",
    "                        break\n",
    "            \n",
    "            if extreme[2] == 'D':\n",
    "                # if it lies in same line along X-axis\n",
    "                for i in range(x1, extreme[0][0], -1):\n",
    "                    if self.mAtrix[i][y1] == False:\n",
    "                        self.input_node.remove(extreme)\n",
    "                        break\n",
    "    \n",
    "    def genNetworkDict(self):\n",
    "        self.networkDict, oneList = {}, []\n",
    "        for _ in self.input_node:\n",
    "            oneList.append((_[0], _[1]))\n",
    "        self.networkDict[self.locn] = tuple(oneList)"
   ]
  },
  {
   "cell_type": "code",
   "execution_count": 4,
   "metadata": {},
   "outputs": [],
   "source": [
    "class networkNodes:\n",
    "    def __init__(self, listOrdinates):\n",
    "        listOfNodes, done, links = [], [], listOrdinates\n",
    "        for i in links:\n",
    "            for j in links:\n",
    "                if i != j:\n",
    "                    if i not in done:\n",
    "                        done.append(i)\n",
    "                        temp = Node(i, j, image)\n",
    "                    else:\n",
    "                        temp.add_nodes(j)\n",
    "            temp.filterOrientation()\n",
    "            temp.checkOverlayObstruction()\n",
    "            temp.genNetworkDict()\n",
    "            listOfNodes.append(temp)\n",
    "            temp = None\n",
    "        self.nodeList = listOfNodes\n",
    "    \n",
    "    def genDictNodes(self):\n",
    "        self.dictNodes = {}\n",
    "        for node in self.nodeList:\n",
    "            key = node.locn\n",
    "            value = tuple([_[:2] for _ in node.input_node])\n",
    "            self.dictNodes[key] = value"
   ]
  },
  {
   "cell_type": "code",
   "execution_count": 5,
   "metadata": {},
   "outputs": [
    {
     "name": "stdout",
     "output_type": "stream",
     "text": [
      "Essential points: 23\n",
      "Total Points 100\n"
     ]
    },
    {
     "data": {
      "image/png": "[encoded data removed]",
      "text/plain": [
       "<Figure size 432x288 with 1 Axes>"
      ]
     },
     "metadata": {},
     "output_type": "display_data"
    }
   ],
   "source": [
    "image = Image('./mazes/tiny.png') #yellow true\n",
    "image.genOverlay()\n",
    "image.displayOverlay()\n",
    "\n",
    "listOrdinates = image.overlayPoints()\n",
    "print('Essential points: {}\\nTotal Points {}'.format(len(listOrdinates), image.rows* image.cols))\n"
   ]
  },
  {
   "cell_type": "code",
   "execution_count": 6,
   "metadata": {},
   "outputs": [],
   "source": [
    "network = networkNodes(listOrdinates)\n",
    "network.genDictNodes()"
   ]
  },
  {
   "cell_type": "code",
   "execution_count": 7,
   "metadata": {},
   "outputs": [
    {
     "name": "stdout",
     "output_type": "stream",
     "text": [
      "Initial point : (Linked point, distance between points)\n"
     ]
    },
    {
     "data": {
      "text/plain": [
       "{(0, 3): (((1, 3), 1),),\n",
       " (1, 1): (((1, 3), 2), ((3, 1), 2)),\n",
       " (1, 3): (((1, 6), 3), ((1, 1), 2), ((3, 3), 2), ((0, 3), 1)),\n",
       " (1, 6): (((1, 8), 2), ((1, 3), 3), ((3, 6), 2)),\n",
       " (1, 8): (((1, 6), 2), ((5, 8), 4)),\n",
       " (3, 1): (((3, 3), 2), ((5, 1), 2), ((1, 1), 2)),\n",
       " (3, 3): (((3, 5), 2), ((3, 1), 2), ((5, 3), 2), ((1, 3), 2)),\n",
       " (3, 5): (((3, 6), 1), ((3, 3), 2), ((5, 5), 2)),\n",
       " (3, 6): (((3, 5), 1), ((1, 6), 2)),\n",
       " (5, 1): (((5, 3), 2), ((7, 1), 2), ((3, 1), 2)),\n",
       " (5, 3): (((5, 5), 2), ((5, 1), 2), ((7, 3), 2), ((3, 3), 2)),\n",
       " (5, 5): (((5, 7), 2), ((5, 3), 2), ((8, 5), 3), ((3, 5), 2)),\n",
       " (5, 7): (((5, 8), 1), ((5, 5), 2), ((8, 7), 3)),\n",
       " (5, 8): (((5, 7), 1), ((7, 8), 2), ((1, 8), 4)),\n",
       " (7, 1): (((7, 3), 2), ((8, 1), 1), ((5, 1), 2)),\n",
       " (7, 3): (((7, 8), 5), ((7, 1), 2), ((8, 3), 1), ((5, 3), 2)),\n",
       " (7, 8): (((7, 3), 5), ((8, 8), 1), ((5, 8), 2)),\n",
       " (8, 1): (((8, 3), 2), ((7, 1), 1)),\n",
       " (8, 3): (((8, 5), 2), ((8, 1), 2), ((7, 3), 1)),\n",
       " (8, 5): (((8, 7), 2), ((8, 3), 2), ((5, 5), 3)),\n",
       " (8, 7): (((8, 8), 1), ((8, 5), 2), ((9, 7), 1), ((5, 7), 3)),\n",
       " (8, 8): (((8, 7), 1), ((7, 8), 1)),\n",
       " (9, 7): (((8, 7), 1),)}"
      ]
     },
     "execution_count": 7,
     "metadata": {},
     "output_type": "execute_result"
    }
   ],
   "source": [
    "print('Initial point : (Linked point, distance between points)')\n",
    "network.dictNodes"
   ]
  },
  {
   "cell_type": "code",
   "execution_count": 8,
   "metadata": {},
   "outputs": [
    {
     "data": {
      "image/png": "[encoded data removed]",
      "text/plain": [
       "<Figure size 432x288 with 1 Axes>"
      ]
     },
     "metadata": {},
     "output_type": "display_data"
    }
   ],
   "source": [
    "for original in network.dictNodes.keys():\n",
    "    for points, distance in network.dictNodes[original]:\n",
    "        plt.plot((original[0], points[0]), (original[1], points[1]), 'go-')"
   ]
  },
  {
   "cell_type": "code",
   "execution_count": null,
   "metadata": {},
   "outputs": [],
   "source": []
  },
  {
   "cell_type": "code",
   "execution_count": null,
   "metadata": {},
   "outputs": [],
   "source": []
  }
 ],
 "metadata": {
  "kernelspec": {
   "display_name": "Python 3",
   "language": "python",
   "name": "python3"
  },
  "language_info": {
   "codemirror_mode": {
    "name": "ipython",
    "version": 3
   },
   "file_extension": ".py",
   "mimetype": "text/x-python",
   "name": "python",
   "nbconvert_exporter": "python",
   "pygments_lexer": "ipython3",
   "version": "3.6.5"
  }
 },
 "nbformat": 4,
 "nbformat_minor": 2
}
