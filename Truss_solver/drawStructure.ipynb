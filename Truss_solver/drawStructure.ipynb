{
 "cells": [
  {
   "cell_type": "code",
   "execution_count": 219,
   "metadata": {},
   "outputs": [],
   "source": [
    "import matplotlib.pyplot as plt\n",
    "from math import sin, cos, pi"
   ]
  },
  {
   "cell_type": "code",
   "execution_count": 220,
   "metadata": {},
   "outputs": [],
   "source": [
    "class point2line:\n",
    "    def __init__(self, point):\n",
    "        self.x, self.y = self.initial = point\n",
    "        self.plotArr = point\n",
    "    \n",
    "    def transfer(self, change, plot=False):\n",
    "        self.plotArr = (self.x, self.x+change[0]), (self.y, self.y+change[1])\n",
    "        self.final = (self.x+ change[0], self.y+ change[1])\n",
    "        if plot: self.plotLine()\n",
    "        return self.final\n",
    "    \n",
    "    def lenDegree(self, point, plot=False):\n",
    "        ln, ang = point\n",
    "        change = ln*cos(self.d2r(ang)), ln*sin(self.d2r(ang))\n",
    "        self.plotArr = (self.x, self.x+change[0]), (self.y, self.y+change[1])\n",
    "        self.final = (self.x+ change[0], self.y+ change[1])\n",
    "        if plot: self.plotLine()\n",
    "        return self.final\n",
    "    \n",
    "    def lenRadian(self, point, plot=False):\n",
    "        ln, ang = point\n",
    "        change = ln*cos(ang), ln*sin(ang)\n",
    "        self.plotArr = (self.x, self.x+change[0]), (self.y, self.y+change[1])\n",
    "        self.final = (self.x+ change[0], self.y+ change[1])\n",
    "        if plot: self.plotLine()\n",
    "        return self.final\n",
    "    \n",
    "    def d2r(self, deg):\n",
    "        return pi* deg/ 180\n",
    "    \n",
    "    def plotLine(self):\n",
    "        plt.plot(self.plotArr[0], self.plotArr[1])"
   ]
  },
  {
   "cell_type": "code",
   "execution_count": 271,
   "metadata": {},
   "outputs": [],
   "source": [
    "class codes2truss:\n",
    "    def __init__(self, drawcodes):\n",
    "        drawCodes = [_ for _ in script.split('\\n') if (_!= '' and _[0]!='#')]\n",
    "        self.drawCodes = [_.split(' ') for _ in drawCodes]\n",
    "    \n",
    "    def drawTruss(self):\n",
    "        self.dataDict = {}\n",
    "        self.dataDict[self.drawCodes[0][0]] = (0, 0), 'start', '.'\n",
    "        \n",
    "        for section in self.drawCodes:\n",
    "            if len(section) == 6:\n",
    "                pt1, pt2, nm, arg1, arg2, ornt = section\n",
    "                pt1, pt2, ornt = map(lambda x: x.upper(), (pt1, pt2, ornt))\n",
    "                arg1, arg2 = map(lambda x: float(x), (arg1, arg2))\n",
    "\n",
    "                if ornt == 'L': \n",
    "                    self.dataDict[pt2] = point2line(self.dataDict[pt1][0]).transfer((arg1,arg2), plot=True), pt1[0], '.'\n",
    "                elif ornt == 'D':  \n",
    "                    self.dataDict[pt2] = point2line(self.dataDict[pt1][0]).lenDegree((arg1,arg2), plot=True), pt1[0], '.'\n",
    "                elif ornt == 'R': \n",
    "                    self.dataDict[pt2] = point2line(self.dataDict[pt1][0]).lenRadian((arg1,arg2), plot=True), pt1[0], '.'\n",
    "                else:\n",
    "                    print('Only L, D, R allowed')\n",
    "            \n",
    "            if len(section) == 2:\n",
    "                pt, symbol = section\n",
    "                pt, symbol = pt.upper(), ('s' if symbol=='+' else symbol)\n",
    "                self.dataDict[pt] = self.dataDict[pt][0], self.dataDict[pt][1], symbol\n",
    "                plt.plot(self.dataDict[pt][0][0], self.dataDict[pt][0][1], 'b'+ symbol, ms=12)\n",
    "    \n",
    "    def help(self):\n",
    "        self.Help = '''\n",
    "        # Sample format:\n",
    "\n",
    "        F B > 60 60 L\n",
    "        B C > 20 45 D\n",
    "        C D > 10 0 R\n",
    "        F ^\n",
    "        B o\n",
    "        C +\n",
    "        B *\n",
    "\n",
    "        # Understanding\n",
    "        ########################################################################\n",
    "        # You can comment as this\n",
    "        # You can leave blank spaces\n",
    "        # Format is first_pt, second_pt, '>', arg1, arg2, \"L or D or R\"\n",
    "\n",
    "        # F B > 60 60 L\n",
    "        # L being simple transfer of pt from pt1 to pt2 by giving diffirence\n",
    "\n",
    "        # B C > 20 45 D\n",
    "        # D being line length given in arg1 and angle given in degree in arg2\n",
    "\n",
    "        # C D > 10 0 R\n",
    "        # R being line length given in arg1 and angle given in radian in arg2\n",
    "\n",
    "        # Joints and supports as: point, type\n",
    "        # F ^\n",
    "        # B o\n",
    "        # C +\n",
    "        # B *\n",
    "        # o roller, ^ hinge, + or s fixed, * for hinge between truss\n",
    "        ########################################################################\n",
    "        '''.replace('        ', '')\n",
    "        print(self.Help)"
   ]
  },
  {
   "cell_type": "code",
   "execution_count": 280,
   "metadata": {},
   "outputs": [],
   "source": [
    "script = '''\n",
    "A B > 25 0 L\n",
    "B C > -9 12 L\n",
    "C A > -16 -12 L\n",
    "\n",
    "A ^\n",
    "B o\n",
    "'''"
   ]
  },
  {
   "cell_type": "code",
   "execution_count": 281,
   "metadata": {},
   "outputs": [
    {
     "data": {
      "text/plain": [
       "{'A': ((0.0, 0.0), 'C', '^'),\n",
       " 'B': ((25.0, 0.0), 'A', 'o'),\n",
       " 'C': ((16.0, 12.0), 'B', '.')}"
      ]
     },
     "execution_count": 281,
     "metadata": {},
     "output_type": "execute_result"
    },
    {
     "data": {
      "image/png": "[encoded data removed]",
      "text/plain": [
       "<Figure size 432x288 with 1 Axes>"
      ]
     },
     "metadata": {},
     "output_type": "display_data"
    }
   ],
   "source": [
    "truss = codes2truss(script)\n",
    "truss.drawTruss()\n",
    "truss.drawCodes\n",
    "truss.dataDict "
   ]
  },
  {
   "cell_type": "code",
   "execution_count": null,
   "metadata": {},
   "outputs": [],
   "source": []
  },
  {
   "cell_type": "code",
   "execution_count": null,
   "metadata": {},
   "outputs": [],
   "source": []
  },
  {
   "cell_type": "code",
   "execution_count": null,
   "metadata": {},
   "outputs": [],
   "source": []
  }
 ],
 "metadata": {
  "kernelspec": {
   "display_name": "Python 3",
   "language": "python",
   "name": "python3"
  },
  "language_info": {
   "codemirror_mode": {
    "name": "ipython",
    "version": 3
   },
   "file_extension": ".py",
   "mimetype": "text/x-python",
   "name": "python",
   "nbconvert_exporter": "python",
   "pygments_lexer": "ipython3",
   "version": "3.6.5"
  }
 },
 "nbformat": 4,
 "nbformat_minor": 2
}
