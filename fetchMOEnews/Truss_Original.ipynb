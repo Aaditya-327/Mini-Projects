{
 "cells": [
  {
   "cell_type": "code",
   "execution_count": 40,
   "metadata": {},
   "outputs": [],
   "source": [
    "import math\n",
    "import numpy as np\n",
    "import matplotlib.pyplot as plt"
   ]
  },
  {
   "cell_type": "code",
   "execution_count": 41,
   "metadata": {},
   "outputs": [],
   "source": [
    "def draw_line_pts(pt1,pt2,lw=1):\n",
    "#     print((pt1[0], pt1[1]), (pt2[0], pt2[1]))\n",
    "    plt.plot([pt1[0], pt2[0]], [pt1[1], pt2[1]], 'k-', lw=lw)\n",
    "    return pt2"
   ]
  },
  {
   "cell_type": "code",
   "execution_count": 42,
   "metadata": {},
   "outputs": [],
   "source": [
    "def cab(angle):\n",
    "    # convert angle to bearing angle\n",
    "    num = 90 - angle\n",
    "    while num >= 360:\n",
    "        num -= 360\n",
    "    while num <= 0:\n",
    "        num += 360\n",
    "    return num"
   ]
  },
  {
   "cell_type": "code",
   "execution_count": 43,
   "metadata": {},
   "outputs": [],
   "source": [
    "def get_point(pt1, addition, type='xy'):\n",
    "    l, a = addition\n",
    "    if type.lower() == 'ad':\n",
    "        a = math.radians(a)\n",
    "        x, y= pt1[0]+l*math.cos(a),pt1[1]+l*math.sin(a)\n",
    "        draw_line_pts(pt1,(x,y))\n",
    "        return x,y\n",
    "    \n",
    "    if type.lower() == 'adb':\n",
    "        a = math.radians(cab(a))\n",
    "        x, y= pt1[0]+l*math.cos(a),pt1[1]+l*math.sin(a)\n",
    "        draw_line_pts(pt1,(x,y))\n",
    "        return x,y\n",
    "    \n",
    "    elif type.lower() == 'ar':\n",
    "        x, y= pt1[0]+l*math.cos(a),pt1[1]+l*math.sin(a)\n",
    "        draw_line_pts(pt1,(x,y))\n",
    "        return x,y\n",
    "    \n",
    "    x, y= pt1[0]+l,pt1[1]+a\n",
    "    draw_line_pts(pt1,(x,y))\n",
    "    return x,y"
   ]
  },
  {
   "cell_type": "code",
   "execution_count": 44,
   "metadata": {},
   "outputs": [],
   "source": [
    "def graph(input_var):\n",
    "    var_break = input_var.upper().split()\n",
    "\n",
    "    first = list(var_break[0])\n",
    "    initial, final, distance, angle = first[:1][0], first[-1:][0], var_break[1][:-1], var_break[2][:-1]\n",
    "#     print(initial, final, distance, angle)\n",
    "\n",
    "    x,y = var_break[1][-1], var_break[2][-1]\n",
    "    if x=='D' and y=='A':\n",
    "        var = ', \"ad\"'\n",
    "        print('Drawing point {} to {} at {} distance and {} degrees'.format(initial,final,distance,angle))\n",
    "    elif x=='D' and y=='R':\n",
    "        var = ', \"ar\"'\n",
    "        print('Drawing point {} to {} at {} distance and {} radians'.format(initial,final,distance,angle))  \n",
    "    else:\n",
    "        var = ''\n",
    "        print('Drawing point {} to {} at {} x-distance and {} y-distance'.format(initial,final,distance,angle))\n",
    "    \n",
    "    # E = get_point(A ,(10,-60), 'ad')\n",
    "    script = (final+' = get_point('+initial+', ('+distance+','+angle+') '+var+')    #'+initial+'-->'+final)\n",
    "#     print(script)\n",
    "    return script"
   ]
  },
  {
   "cell_type": "code",
   "execution_count": 45,
   "metadata": {},
   "outputs": [],
   "source": [
    "def run_this(string):\n",
    "    A = (0,0)\n",
    "#     plt.axes().set_aspect('equal', 'datalim')\n",
    "    lists, exec_string = [], ''\n",
    "    lists = [graph(_)for _ in string.split('\\n') if len(_)>5]\n",
    "    for _ in lists:\n",
    "        exec_string += _+'\\n'\n",
    "    print('\\n\\n'+'-'*50)\n",
    "    print('Snippet of data:\\n\\n')\n",
    "    exec(exec_string,globals())\n",
    "    print(exec_string)\n",
    "    print('-'*50)\n",
    "    return exec_string"
   ]
  },
  {
   "cell_type": "code",
   "execution_count": 46,
   "metadata": {},
   "outputs": [],
   "source": [
    "# # plt.grid(True)\n",
    "# plt.axes().set_aspect('equal', 'datalim')\n",
    "# A = (0,0)\n",
    "# plt.plot(0, 0.3, 'wo', markersize=1)\n",
    "\n",
    "\n",
    "# B = get_point(A, (1,0) , \"ad\")    #A-->B\n",
    "# C = get_point(B, (1,0) , \"ad\")    #B-->C\n",
    "# E = get_point(A, (1,-60) , \"ad\")    #A-->E\n",
    "# B = get_point(E, (1,60) , \"ad\")    #E-->B\n",
    "# D = get_point(E, (1,0) , \"ad\")    #E-->D\n",
    "# D = get_point(B, (1,-60) , \"ad\")    #B-->D\n",
    "# C = get_point(D, (1,60) , \"ad\")    #D-->C\n",
    "\n",
    "# line_up, = plt.plot(0, 0, 'ro', markersize=12, label='Line 2')\n",
    "# line_down, = plt.plot(2, 0, 'r^', markersize=12, label='Line 1')\n",
    "\n",
    "\n",
    "# print(A,B,C,D,E)\n",
    "# plt.legend([line_up, line_down], ['Roller support', 'Hinge support'])\n",
    "# plt.show()"
   ]
  },
  {
   "cell_type": "code",
   "execution_count": 47,
   "metadata": {
    "scrolled": false
   },
   "outputs": [
    {
     "name": "stdout",
     "output_type": "stream",
     "text": [
      "Drawing point A to B at 1 distance and 0 degrees\n",
      "Drawing point B to C at 1 distance and 0 degrees\n",
      "Drawing point A to E at 1 distance and -60 degrees\n",
      "Drawing point E to B at 1 distance and 60 degrees\n",
      "Drawing point E to D at 1 distance and 0 degrees\n",
      "Drawing point B to D at 1 distance and -60 degrees\n",
      "Drawing point D to C at 1 distance and 60 degrees\n",
      "\n",
      "\n",
      "--------------------------------------------------\n",
      "Snippet of data:\n",
      "\n",
      "\n",
      "B = get_point(A, (1,0) , \"ad\")    #A-->B\n",
      "C = get_point(B, (1,0) , \"ad\")    #B-->C\n",
      "E = get_point(A, (1,-60) , \"ad\")    #A-->E\n",
      "B = get_point(E, (1,60) , \"ad\")    #E-->B\n",
      "D = get_point(E, (1,0) , \"ad\")    #E-->D\n",
      "D = get_point(B, (1,-60) , \"ad\")    #B-->D\n",
      "C = get_point(D, (1,60) , \"ad\")    #D-->C\n",
      "\n",
      "--------------------------------------------------\n",
      "(0, 0) (1.0000000000000002, 0.0) (2.0000000000000004, 0.0) (1.5000000000000004, -0.8660254037844386) (0.5000000000000001, -0.8660254037844386)\n"
     ]
    },
    {
     "data": {
      "image/png": "[encoded data removed]",
      "text/plain": [
       "<matplotlib.figure.Figure at 0x209430dec18>"
      ]
     },
     "metadata": {},
     "output_type": "display_data"
    }
   ],
   "source": [
    "plt.axes().set_aspect('equal', 'datalim')\n",
    "A = (0,0)\n",
    "plt.plot(0, 1, 'wo', markersize=1)\n",
    "plt.plot(0, -1, 'wo', markersize=1)\n",
    "\n",
    "string = '''\n",
    "A>B 1d 0a\n",
    "B>c 1d 0a\n",
    "A>e 1d -60a\n",
    "e>b 1d 60a\n",
    "e>d 1d 0a\n",
    "b>d 1d -60a\n",
    "d>c 1d 60a\n",
    "'''\n",
    "\n",
    "string = run_this(string)\n",
    "line_up, = plt.plot(0, 0, 'ro', markersize=9, label='Line 2')\n",
    "line_down, = plt.plot(2, 0, 'r^', markersize=9, label='Line 1')\n",
    "plt.arrow(-0.35,0.35,0.35,-0.35, shape='full', lw=1, length_includes_head=True, head_width=.07)\n",
    "\n",
    "print(A,B,C,D,E)\n",
    "plt.legend([line_up, line_down], ['Roller support', 'Hinge support'])\n",
    "plt.show()"
   ]
  },
  {
   "cell_type": "code",
   "execution_count": null,
   "metadata": {},
   "outputs": [],
   "source": []
  },
  {
   "cell_type": "code",
   "execution_count": null,
   "metadata": {},
   "outputs": [],
   "source": []
  }
 ],
 "metadata": {
  "celltoolbar": "Raw Cell Format",
  "kernelspec": {
   "display_name": "Python 3",
   "language": "python",
   "name": "python3"
  },
  "language_info": {
   "codemirror_mode": {
    "name": "ipython",
    "version": 3
   },
   "file_extension": ".py",
   "mimetype": "text/x-python",
   "name": "python",
   "nbconvert_exporter": "python",
   "pygments_lexer": "ipython3",
   "version": "3.6.5"
  }
 },
 "nbformat": 4,
 "nbformat_minor": 2
}
