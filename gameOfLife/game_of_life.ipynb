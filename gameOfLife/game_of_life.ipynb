{
 "cells": [
  {
   "cell_type": "code",
   "execution_count": 1,
   "metadata": {},
   "outputs": [],
   "source": [
    "import numpy as np\n",
    "import matplotlib.pyplot as plt"
   ]
  },
  {
   "cell_type": "code",
   "execution_count": 2,
   "metadata": {},
   "outputs": [],
   "source": [
    "class Board:\n",
    "    \n",
    "    def __init__(self, dimx, dimy, random= True, display= (10, 10)):\n",
    "        self.x, self.y, self.count = dimx, dimy, 0\n",
    "        self.dispx, self.dispy = display\n",
    "        if random == False: self.board = np.zeros((dimx, dimy), dtype=bool)\n",
    "        else: self.board = np.random.choice([True, False, False, False], (dimx, dimy))\n",
    "        self.iterate_arr = np.zeros((dimx, dimy))\n",
    "    \n",
    "    def up(self, point):\n",
    "        ptx, pty = point\n",
    "        if pty - 1 < 0: return ptx, pty -1 + self.y\n",
    "        else: return ptx, pty - 1\n",
    "    \n",
    "    def down(self, point):\n",
    "        ptx, pty = point\n",
    "        if pty + 1 >= self.y: return ptx, pty +1 - self.y\n",
    "        else: return ptx, pty + 1\n",
    "    \n",
    "    def left(self, point):\n",
    "        ptx, pty = point\n",
    "        if ptx - 1 < 0: return ptx -1 + self.x, pty\n",
    "        else: return ptx - 1, pty\n",
    "    \n",
    "    def right(self, point):\n",
    "        ptx, pty = point\n",
    "        if ptx + 1 >= self.x: return ptx +1 - self.x, pty\n",
    "        else: return ptx + 1, pty\n",
    "    \n",
    "    def neighborhood(self, point):\n",
    "        up, down, left, right = self.up, self.down, self.left, self.right\n",
    "        return (up(left(point)),   up(point),    up(right(point)),\n",
    "                left(point),       point,        right(point),\n",
    "                down(left(point)), down(point),  down(right(point)))\n",
    "    \n",
    "    def add_neighborhood(self, point):\n",
    "        surround = self.neighborhood(point)\n",
    "        surround = surround[:4] + surround[5:]\n",
    "        return sum([int(self.board[i]) for i in surround])\n",
    "    \n",
    "    def iterate(self):\n",
    "        for i in range(self.x):\n",
    "            for j in range(self.y):\n",
    "                self.iterate_arr[(i, j)] = self.add_neighborhood((i, j))\n",
    "                \n",
    "        for i in range(self.x):\n",
    "            for j in range(self.y):\n",
    "                if self.board[(i, j)] == True and self.iterate_arr[(i, j)] < 2:\n",
    "                    self.board[(i, j)] = False\n",
    "                elif self.board[(i, j)] == True and self.iterate_arr[(i, j)] > 3:\n",
    "                    self.board[(i, j)] = False\n",
    "                elif self.board[(i, j)] == False and self.iterate_arr[(i, j)] == 3:\n",
    "                    self.board[(i, j)] = True\n",
    "    \n",
    "    def display(self):\n",
    "        self.count += 1 #You might like to make count global\n",
    "        self.dispx, self.dispy\n",
    "        di_x, di_y = (self.x - self.dispx)/2, (self.y - self.dispy)/2\n",
    "        array_img = self.board[int(di_x): int(di_x+ self.dispx), int(di_y): int(di_y+ self.dispy)]\n",
    "        filesave = './imsave/name{}.png'.format(str(self.count).zfill(5))\n",
    "        plt.imsave(filesave , array_img, cmap='gray')\n",
    "        return filesave        \n",
    "    \n",
    "    def loopNdisplay(self, loop=10):\n",
    "        self.files = []\n",
    "        for i in range(loop):\n",
    "            gameOfLife.iterate()\n",
    "            self.files.append(gameOfLife.display())\n",
    "        return self.files"
   ]
  },
  {
   "cell_type": "code",
   "execution_count": 3,
   "metadata": {},
   "outputs": [
    {
     "data": {
      "text/plain": [
       "['./imsave/name00001.png',\n",
       " './imsave/name00002.png',\n",
       " './imsave/name00003.png',\n",
       " './imsave/name00004.png',\n",
       " './imsave/name00005.png',\n",
       " './imsave/name00006.png',\n",
       " './imsave/name00007.png',\n",
       " './imsave/name00008.png',\n",
       " './imsave/name00009.png',\n",
       " './imsave/name00010.png']"
      ]
     },
     "execution_count": 3,
     "metadata": {},
     "output_type": "execute_result"
    }
   ],
   "source": [
    "gameOfLife = Board(100, 100, display=(100, 100))\n",
    "gameOfLife.loopNdisplay(loop=10)"
   ]
  },
  {
   "cell_type": "code",
   "execution_count": null,
   "metadata": {},
   "outputs": [],
   "source": []
  }
 ],
 "metadata": {
  "kernelspec": {
   "display_name": "Python 3",
   "language": "python",
   "name": "python3"
  },
  "language_info": {
   "codemirror_mode": {
    "name": "ipython",
    "version": 3
   },
   "file_extension": ".py",
   "mimetype": "text/x-python",
   "name": "python",
   "nbconvert_exporter": "python",
   "pygments_lexer": "ipython3",
   "version": "3.6.5"
  }
 },
 "nbformat": 4,
 "nbformat_minor": 2
}
